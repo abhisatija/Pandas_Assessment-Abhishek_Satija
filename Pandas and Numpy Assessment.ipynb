{
 "cells": [
  {
   "cell_type": "markdown",
   "id": "f439ff08-42e9-4bcb-8fe0-7a68c02710c2",
   "metadata": {},
   "source": [
    "## Numpy Assessment"
   ]
  },
  {
   "cell_type": "code",
   "execution_count": 3,
   "id": "c06a94be-28d8-46f0-a29a-947d5ada2fc9",
   "metadata": {},
   "outputs": [],
   "source": [
    "import numpy as np\n",
    "import pandas as pd"
   ]
  },
  {
   "cell_type": "markdown",
   "id": "55bee51e-595e-4e47-be33-748f88d0d897",
   "metadata": {},
   "source": [
    "### Q.1 Convert a 1D array to a 2D array with 2 rows"
   ]
  },
  {
   "cell_type": "code",
   "execution_count": 23,
   "id": "b0118691-5f06-4ee4-a436-909ffc5de5bf",
   "metadata": {},
   "outputs": [
    {
     "data": {
      "text/plain": [
       "array([[10, 20],\n",
       "       [30, 40]])"
      ]
     },
     "execution_count": 23,
     "metadata": {},
     "output_type": "execute_result"
    }
   ],
   "source": [
    "a1 = np.array([10,20,30,40])\n",
    "\n",
    "a2 = a1.reshape(2,-1)\n",
    "a2"
   ]
  },
  {
   "cell_type": "markdown",
   "id": "47d769ad-81e4-4f79-96b6-bdd94e0da7ee",
   "metadata": {},
   "source": [
    "### Q.2 Get the common items between a and b"
   ]
  },
  {
   "cell_type": "code",
   "execution_count": 25,
   "id": "37b6ce56-c759-47aa-8cde-a5c6e8f7b3f8",
   "metadata": {},
   "outputs": [
    {
     "data": {
      "text/plain": [
       "array([2, 4])"
      ]
     },
     "execution_count": 25,
     "metadata": {},
     "output_type": "execute_result"
    }
   ],
   "source": [
    "# Input:\n",
    "a = np.array([1,2,3,2,3,4,3,4,5,6])\n",
    "b = np.array([7,2,10,2,7,4,9,4,9,8])\n",
    "\n",
    "np.intersect1d(a,b)"
   ]
  },
  {
   "cell_type": "markdown",
   "id": "be8b5ac4-d636-4299-a4e8-24e32f550587",
   "metadata": {},
   "source": [
    "### Q.3 Get all items between 5 and 10 from a."
   ]
  },
  {
   "cell_type": "code",
   "execution_count": 28,
   "id": "c7968352-5c9d-4f08-a03f-5b1521d40d63",
   "metadata": {},
   "outputs": [
    {
     "data": {
      "text/plain": [
       "array([ 6,  9, 10])"
      ]
     },
     "execution_count": 28,
     "metadata": {},
     "output_type": "execute_result"
    }
   ],
   "source": [
    "# Input:\n",
    "a = np.array([2, 6, 1, 9, 10, 3, 27])\n",
    "\n",
    "a[(a >= 5) & (a <= 10)]"
   ]
  },
  {
   "cell_type": "markdown",
   "id": "1e0771c2-5ef7-4692-808e-9999d0ca39ae",
   "metadata": {},
   "source": [
    "### Q.4 Limit the number of items printed in python NumPy array a to a maximum of 6 elements."
   ]
  },
  {
   "cell_type": "code",
   "execution_count": 45,
   "id": "92857ee6-2c4d-4db7-8f39-f8ff9771e127",
   "metadata": {},
   "outputs": [
    {
     "name": "stdout",
     "output_type": "stream",
     "text": [
      "[ 0  1  2 ... 12 13 14]\n"
     ]
    }
   ],
   "source": [
    "# Input\n",
    "array = np.array([0, 1, 2, 3, 4, 5, 6, 7, 8, 9, 10, 11, 12, 13, 14])\n",
    "\n",
    "np.set_printoptions(threshold=6)\n",
    "print(array)"
   ]
  },
  {
   "cell_type": "markdown",
   "id": "2e268bff-5930-4406-a230-61a1e27fbe7f",
   "metadata": {},
   "source": [
    "## Pandas Assessment"
   ]
  },
  {
   "cell_type": "markdown",
   "id": "903dd38e-4921-4119-a46d-7f0ada514e04",
   "metadata": {},
   "source": [
    "### 1. Compute the minimum, 25th percentile, median, 75th, and maximum of ser."
   ]
  },
  {
   "cell_type": "code",
   "execution_count": 53,
   "id": "a8b02350-531d-4469-b49f-8dce1d8f0cff",
   "metadata": {},
   "outputs": [
    {
     "data": {
      "text/plain": [
       "count    18.000000\n",
       "mean      7.944444\n",
       "std      17.558213\n",
       "min       1.000000\n",
       "25%       3.000000\n",
       "50%       4.000000\n",
       "75%       5.000000\n",
       "max      78.000000\n",
       "dtype: float64"
      ]
     },
     "execution_count": 53,
     "metadata": {},
     "output_type": "execute_result"
    }
   ],
   "source": [
    "ser = pd.Series([1,2,2,3,4,5,5,3,2,5,6,78,4,3,7,6,4,3])\n",
    "ser.describe()"
   ]
  },
  {
   "cell_type": "markdown",
   "id": "befa232b-6d6f-4173-b524-8e202c14eac4",
   "metadata": {},
   "source": [
    "### 2. Creating A Pandas Data Frame and Using Sample Data Sets"
   ]
  },
  {
   "cell_type": "code",
   "execution_count": 54,
   "id": "114a1242-0e89-4a1a-91e0-1ebc21d7f2bd",
   "metadata": {},
   "outputs": [
    {
     "name": "stdout",
     "output_type": "stream",
     "text": [
      "      Name  Age         City\n",
      "0    Alice   24     New York\n",
      "1      Bob   27  Los Angeles\n",
      "2  Charlie   22      Chicago\n",
      "3    David   32      Houston\n",
      "4      Eva   29      Phoenix\n"
     ]
    }
   ],
   "source": [
    "# Sample data\n",
    "data = {\n",
    "    'Name': ['Alice', 'Bob', 'Charlie', 'David', 'Eva'],\n",
    "    'Age': [24, 27, 22, 32, 29],\n",
    "    'City': ['New York', 'Los Angeles', 'Chicago', 'Houston', 'Phoenix']\n",
    "}\n",
    "\n",
    "df = pd.DataFrame(data)\n",
    "print(df)"
   ]
  },
  {
   "cell_type": "markdown",
   "id": "4192b7d5-4e61-4207-8875-b3d7c026b763",
   "metadata": {},
   "source": [
    "### 3. Using NumPy, create a Pandas Data Frame with five rows and three columns."
   ]
  },
  {
   "cell_type": "code",
   "execution_count": 56,
   "id": "24f679f3-c91b-48d4-92a1-605601485c7c",
   "metadata": {},
   "outputs": [
    {
     "data": {
      "text/html": [
       "<div>\n",
       "<style scoped>\n",
       "    .dataframe tbody tr th:only-of-type {\n",
       "        vertical-align: middle;\n",
       "    }\n",
       "\n",
       "    .dataframe tbody tr th {\n",
       "        vertical-align: top;\n",
       "    }\n",
       "\n",
       "    .dataframe thead th {\n",
       "        text-align: right;\n",
       "    }\n",
       "</style>\n",
       "<table border=\"1\" class=\"dataframe\">\n",
       "  <thead>\n",
       "    <tr style=\"text-align: right;\">\n",
       "      <th></th>\n",
       "      <th>ABC</th>\n",
       "      <th>XYZ</th>\n",
       "      <th>CBA</th>\n",
       "    </tr>\n",
       "  </thead>\n",
       "  <tbody>\n",
       "    <tr>\n",
       "      <th>0</th>\n",
       "      <td>0.182576</td>\n",
       "      <td>0.321477</td>\n",
       "      <td>0.222654</td>\n",
       "    </tr>\n",
       "    <tr>\n",
       "      <th>1</th>\n",
       "      <td>0.227122</td>\n",
       "      <td>0.292838</td>\n",
       "      <td>0.592758</td>\n",
       "    </tr>\n",
       "    <tr>\n",
       "      <th>2</th>\n",
       "      <td>0.153585</td>\n",
       "      <td>0.590999</td>\n",
       "      <td>0.339072</td>\n",
       "    </tr>\n",
       "    <tr>\n",
       "      <th>3</th>\n",
       "      <td>0.580433</td>\n",
       "      <td>0.835808</td>\n",
       "      <td>0.251759</td>\n",
       "    </tr>\n",
       "    <tr>\n",
       "      <th>4</th>\n",
       "      <td>0.808127</td>\n",
       "      <td>0.645479</td>\n",
       "      <td>0.499567</td>\n",
       "    </tr>\n",
       "  </tbody>\n",
       "</table>\n",
       "</div>"
      ],
      "text/plain": [
       "        ABC       XYZ       CBA\n",
       "0  0.182576  0.321477  0.222654\n",
       "1  0.227122  0.292838  0.592758\n",
       "2  0.153585  0.590999  0.339072\n",
       "3  0.580433  0.835808  0.251759\n",
       "4  0.808127  0.645479  0.499567"
      ]
     },
     "execution_count": 56,
     "metadata": {},
     "output_type": "execute_result"
    }
   ],
   "source": [
    "ab = np.random.rand(5,3)\n",
    "\n",
    "sdf = pd.DataFrame(ab, columns=[\"ABC\", \"XYZ\", \"CBA\"])\n",
    "sdf"
   ]
  },
  {
   "cell_type": "markdown",
   "id": "eab80514-1cd4-4b7b-9961-9891d5ed7265",
   "metadata": {},
   "source": [
    "### 4. For a Pandas Data Frame created from a NumPy array, what is the default behavior for the labels for the columns? For the rows?"
   ]
  },
  {
   "cell_type": "code",
   "execution_count": 57,
   "id": "59b5c00a-ac85-4dc3-a4a3-269ea48817ce",
   "metadata": {},
   "outputs": [
    {
     "name": "stdout",
     "output_type": "stream",
     "text": [
      "          0         1         2\n",
      "0  0.279613  0.097816  0.773456\n",
      "1  0.978839  0.296962  0.850739\n",
      "2  0.116615  0.589766  0.471148\n",
      "3  0.910285  0.174508  0.812721\n",
      "4  0.011538  0.672572  0.110141\n"
     ]
    }
   ],
   "source": [
    "data = np.random.rand(5, 3)\n",
    "df = pd.DataFrame(data)\n",
    "print(df)"
   ]
  },
  {
   "cell_type": "markdown",
   "id": "c9128f32-9e19-4669-8e1a-a08382bd95e7",
   "metadata": {},
   "source": [
    "### 5. take csv file contains at least 10,000 rows and 12 columns which numerical and text values according to that continue following steps"
   ]
  },
  {
   "cell_type": "code",
   "execution_count": 58,
   "id": "80d11728-415a-49b0-a5bb-ed3fe5046907",
   "metadata": {},
   "outputs": [],
   "source": [
    "pdf = pd.read_csv(\"random_data_10000_rows_12_columns.csv\")"
   ]
  },
  {
   "cell_type": "code",
   "execution_count": 59,
   "id": "654cc221-a1d2-4025-b95d-df8f23142d25",
   "metadata": {},
   "outputs": [
    {
     "data": {
      "text/html": [
       "<div>\n",
       "<style scoped>\n",
       "    .dataframe tbody tr th:only-of-type {\n",
       "        vertical-align: middle;\n",
       "    }\n",
       "\n",
       "    .dataframe tbody tr th {\n",
       "        vertical-align: top;\n",
       "    }\n",
       "\n",
       "    .dataframe thead th {\n",
       "        text-align: right;\n",
       "    }\n",
       "</style>\n",
       "<table border=\"1\" class=\"dataframe\">\n",
       "  <thead>\n",
       "    <tr style=\"text-align: right;\">\n",
       "      <th></th>\n",
       "      <th>Column1</th>\n",
       "      <th>Column2</th>\n",
       "      <th>Column3</th>\n",
       "      <th>Column4</th>\n",
       "      <th>Column5</th>\n",
       "      <th>Column6</th>\n",
       "      <th>Column7</th>\n",
       "      <th>Column8</th>\n",
       "      <th>Column9</th>\n",
       "      <th>Column10</th>\n",
       "      <th>Column11</th>\n",
       "      <th>Column12</th>\n",
       "    </tr>\n",
       "  </thead>\n",
       "  <tbody>\n",
       "    <tr>\n",
       "      <th>0</th>\n",
       "      <td>52</td>\n",
       "      <td>0.702325</td>\n",
       "      <td>C</td>\n",
       "      <td>1.073610</td>\n",
       "      <td>Y</td>\n",
       "      <td>4</td>\n",
       "      <td>0.078463</td>\n",
       "      <td>Red</td>\n",
       "      <td>0.443344</td>\n",
       "      <td>168</td>\n",
       "      <td>Cat</td>\n",
       "      <td>279</td>\n",
       "    </tr>\n",
       "    <tr>\n",
       "      <th>1</th>\n",
       "      <td>93</td>\n",
       "      <td>0.851969</td>\n",
       "      <td>C</td>\n",
       "      <td>-0.879164</td>\n",
       "      <td>X</td>\n",
       "      <td>10</td>\n",
       "      <td>0.682231</td>\n",
       "      <td>Green</td>\n",
       "      <td>0.552762</td>\n",
       "      <td>118</td>\n",
       "      <td>Bird</td>\n",
       "      <td>208</td>\n",
       "    </tr>\n",
       "    <tr>\n",
       "      <th>2</th>\n",
       "      <td>15</td>\n",
       "      <td>0.356609</td>\n",
       "      <td>A</td>\n",
       "      <td>2.340643</td>\n",
       "      <td>X</td>\n",
       "      <td>25</td>\n",
       "      <td>0.612319</td>\n",
       "      <td>Blue</td>\n",
       "      <td>0.848444</td>\n",
       "      <td>148</td>\n",
       "      <td>Bird</td>\n",
       "      <td>267</td>\n",
       "    </tr>\n",
       "    <tr>\n",
       "      <th>3</th>\n",
       "      <td>72</td>\n",
       "      <td>0.261397</td>\n",
       "      <td>C</td>\n",
       "      <td>-0.888472</td>\n",
       "      <td>X</td>\n",
       "      <td>32</td>\n",
       "      <td>0.642660</td>\n",
       "      <td>Blue</td>\n",
       "      <td>-0.375471</td>\n",
       "      <td>197</td>\n",
       "      <td>Cat</td>\n",
       "      <td>288</td>\n",
       "    </tr>\n",
       "    <tr>\n",
       "      <th>4</th>\n",
       "      <td>61</td>\n",
       "      <td>0.946599</td>\n",
       "      <td>C</td>\n",
       "      <td>-1.166774</td>\n",
       "      <td>Z</td>\n",
       "      <td>8</td>\n",
       "      <td>0.813495</td>\n",
       "      <td>Green</td>\n",
       "      <td>0.000526</td>\n",
       "      <td>176</td>\n",
       "      <td>Dog</td>\n",
       "      <td>279</td>\n",
       "    </tr>\n",
       "  </tbody>\n",
       "</table>\n",
       "</div>"
      ],
      "text/plain": [
       "   Column1   Column2 Column3   Column4 Column5  Column6   Column7 Column8  \\\n",
       "0       52  0.702325       C  1.073610       Y        4  0.078463     Red   \n",
       "1       93  0.851969       C -0.879164       X       10  0.682231   Green   \n",
       "2       15  0.356609       A  2.340643       X       25  0.612319    Blue   \n",
       "3       72  0.261397       C -0.888472       X       32  0.642660    Blue   \n",
       "4       61  0.946599       C -1.166774       Z        8  0.813495   Green   \n",
       "\n",
       "    Column9  Column10 Column11  Column12  \n",
       "0  0.443344       168      Cat       279  \n",
       "1  0.552762       118     Bird       208  \n",
       "2  0.848444       148     Bird       267  \n",
       "3 -0.375471       197      Cat       288  \n",
       "4  0.000526       176      Dog       279  "
      ]
     },
     "execution_count": 59,
     "metadata": {},
     "output_type": "execute_result"
    }
   ],
   "source": [
    "pdf.head()"
   ]
  },
  {
   "cell_type": "markdown",
   "id": "d889943b-144b-4182-a54b-c86e7a437a2d",
   "metadata": {},
   "source": [
    "### 6. Write the code to show the number of rows and columns in data frame."
   ]
  },
  {
   "cell_type": "code",
   "execution_count": 63,
   "id": "59c3f2ea-244a-45d8-bf96-b4b666966b7a",
   "metadata": {},
   "outputs": [
    {
     "data": {
      "text/plain": [
       "(10000, 12)"
      ]
     },
     "execution_count": 63,
     "metadata": {},
     "output_type": "execute_result"
    }
   ],
   "source": [
    "pdf.shape"
   ]
  },
  {
   "cell_type": "markdown",
   "id": "fb722bb3-fa79-43bd-ac38-a839f67f85d7",
   "metadata": {},
   "source": [
    "### 7. How might you show the first few rows of data frame?"
   ]
  },
  {
   "cell_type": "code",
   "execution_count": 64,
   "id": "e3936ef9-2635-425c-ab99-35e761a4cfff",
   "metadata": {},
   "outputs": [
    {
     "data": {
      "text/html": [
       "<div>\n",
       "<style scoped>\n",
       "    .dataframe tbody tr th:only-of-type {\n",
       "        vertical-align: middle;\n",
       "    }\n",
       "\n",
       "    .dataframe tbody tr th {\n",
       "        vertical-align: top;\n",
       "    }\n",
       "\n",
       "    .dataframe thead th {\n",
       "        text-align: right;\n",
       "    }\n",
       "</style>\n",
       "<table border=\"1\" class=\"dataframe\">\n",
       "  <thead>\n",
       "    <tr style=\"text-align: right;\">\n",
       "      <th></th>\n",
       "      <th>Column1</th>\n",
       "      <th>Column2</th>\n",
       "      <th>Column3</th>\n",
       "      <th>Column4</th>\n",
       "      <th>Column5</th>\n",
       "      <th>Column6</th>\n",
       "      <th>Column7</th>\n",
       "      <th>Column8</th>\n",
       "      <th>Column9</th>\n",
       "      <th>Column10</th>\n",
       "      <th>Column11</th>\n",
       "      <th>Column12</th>\n",
       "    </tr>\n",
       "  </thead>\n",
       "  <tbody>\n",
       "    <tr>\n",
       "      <th>0</th>\n",
       "      <td>52</td>\n",
       "      <td>0.702325</td>\n",
       "      <td>C</td>\n",
       "      <td>1.073610</td>\n",
       "      <td>Y</td>\n",
       "      <td>4</td>\n",
       "      <td>0.078463</td>\n",
       "      <td>Red</td>\n",
       "      <td>0.443344</td>\n",
       "      <td>168</td>\n",
       "      <td>Cat</td>\n",
       "      <td>279</td>\n",
       "    </tr>\n",
       "    <tr>\n",
       "      <th>1</th>\n",
       "      <td>93</td>\n",
       "      <td>0.851969</td>\n",
       "      <td>C</td>\n",
       "      <td>-0.879164</td>\n",
       "      <td>X</td>\n",
       "      <td>10</td>\n",
       "      <td>0.682231</td>\n",
       "      <td>Green</td>\n",
       "      <td>0.552762</td>\n",
       "      <td>118</td>\n",
       "      <td>Bird</td>\n",
       "      <td>208</td>\n",
       "    </tr>\n",
       "    <tr>\n",
       "      <th>2</th>\n",
       "      <td>15</td>\n",
       "      <td>0.356609</td>\n",
       "      <td>A</td>\n",
       "      <td>2.340643</td>\n",
       "      <td>X</td>\n",
       "      <td>25</td>\n",
       "      <td>0.612319</td>\n",
       "      <td>Blue</td>\n",
       "      <td>0.848444</td>\n",
       "      <td>148</td>\n",
       "      <td>Bird</td>\n",
       "      <td>267</td>\n",
       "    </tr>\n",
       "    <tr>\n",
       "      <th>3</th>\n",
       "      <td>72</td>\n",
       "      <td>0.261397</td>\n",
       "      <td>C</td>\n",
       "      <td>-0.888472</td>\n",
       "      <td>X</td>\n",
       "      <td>32</td>\n",
       "      <td>0.642660</td>\n",
       "      <td>Blue</td>\n",
       "      <td>-0.375471</td>\n",
       "      <td>197</td>\n",
       "      <td>Cat</td>\n",
       "      <td>288</td>\n",
       "    </tr>\n",
       "    <tr>\n",
       "      <th>4</th>\n",
       "      <td>61</td>\n",
       "      <td>0.946599</td>\n",
       "      <td>C</td>\n",
       "      <td>-1.166774</td>\n",
       "      <td>Z</td>\n",
       "      <td>8</td>\n",
       "      <td>0.813495</td>\n",
       "      <td>Green</td>\n",
       "      <td>0.000526</td>\n",
       "      <td>176</td>\n",
       "      <td>Dog</td>\n",
       "      <td>279</td>\n",
       "    </tr>\n",
       "  </tbody>\n",
       "</table>\n",
       "</div>"
      ],
      "text/plain": [
       "   Column1   Column2 Column3   Column4 Column5  Column6   Column7 Column8  \\\n",
       "0       52  0.702325       C  1.073610       Y        4  0.078463     Red   \n",
       "1       93  0.851969       C -0.879164       X       10  0.682231   Green   \n",
       "2       15  0.356609       A  2.340643       X       25  0.612319    Blue   \n",
       "3       72  0.261397       C -0.888472       X       32  0.642660    Blue   \n",
       "4       61  0.946599       C -1.166774       Z        8  0.813495   Green   \n",
       "\n",
       "    Column9  Column10 Column11  Column12  \n",
       "0  0.443344       168      Cat       279  \n",
       "1  0.552762       118     Bird       208  \n",
       "2  0.848444       148     Bird       267  \n",
       "3 -0.375471       197      Cat       288  \n",
       "4  0.000526       176      Dog       279  "
      ]
     },
     "execution_count": 64,
     "metadata": {},
     "output_type": "execute_result"
    }
   ],
   "source": [
    "pdf.head()"
   ]
  },
  {
   "cell_type": "markdown",
   "id": "e686df83-1107-4555-a99b-df19ad00d043",
   "metadata": {},
   "source": [
    "### 8. If you select a single column from the diamonds Data Frame, what will be the type of the return value?"
   ]
  },
  {
   "cell_type": "code",
   "execution_count": 65,
   "id": "3f9536d9-656b-4b97-92d1-ecfd7274702c",
   "metadata": {},
   "outputs": [
    {
     "name": "stdout",
     "output_type": "stream",
     "text": [
      "<class 'pandas.core.series.Series'>\n"
     ]
    }
   ],
   "source": [
    "single_column = pdf[\"Column1\"]\n",
    "print(type(single_column))"
   ]
  },
  {
   "cell_type": "markdown",
   "id": "9df06aeb-dfc9-4ed9-aba6-1b14d955b899",
   "metadata": {},
   "source": [
    "### 9. Create a line plot using the x and y values provided below. Label the y-axis as “Y” and label the x-axis as “X”.\n",
    "* x = [3, 4, 5, 6]\r",
    "* \n",
    "y = [1.5, 2, 2.5, 3]"
   ]
  },
  {
   "cell_type": "code",
   "execution_count": 69,
   "id": "a775ef3f-96a4-4a9e-b4f5-6e54be525604",
   "metadata": {},
   "outputs": [
    {
     "data": {
      "text/plain": [
       "<Axes: xlabel='X'>"
      ]
     },
     "execution_count": 69,
     "metadata": {},
     "output_type": "execute_result"
    },
    {
     "data": {
      "image/png": "[encoded data removed]",
      "text/plain": [
       "<Figure size 640x480 with 1 Axes>"
      ]
     },
     "metadata": {},
     "output_type": "display_data"
    }
   ],
   "source": [
    "xy = {\n",
    "    'X': [3, 4, 5, 6],\n",
    "    'Y': [1.5, 2, 2.5, 3]\n",
    "}\n",
    "\n",
    "xdf = pd.DataFrame(xy)\n",
    "xdf.plot(x='X', y='Y', kind='line')"
   ]
  },
  {
   "cell_type": "markdown",
   "id": "84b7acbb-8c92-42bb-b733-730ff8269514",
   "metadata": {},
   "source": [
    "### 10. Create an array of numbers between 0 and 6 with increments of 0.3 and name its “x”.Then on the same plot, plot x, x², x³, and x⁴. For consistency, use the following style lines respectively, “ro”, “bs”, “g”, and “:”. Lastly, make sure that the x-axis covers 0 to 6, while the y-axis spans from 0 to 125. Do not worry if you are not familiar with the style lines — you will recognize them as soon as you see the plot."
   ]
  },
  {
   "cell_type": "code",
   "execution_count": 90,
   "id": "38dbc897-3385-472a-9804-2c83e1b50dc7",
   "metadata": {},
   "outputs": [
    {
     "data": {
      "image/png": "[encoded data removed]",
      "text/plain": [
       "<Figure size 640x480 with 1 Axes>"
      ]
     },
     "metadata": {},
     "output_type": "display_data"
    }
   ],
   "source": [
    "x = np.arange(0, 6, 0.3)\n",
    "sdf = pd.DataFrame({\n",
    "    'x' : x,\n",
    "    'x²' : x**2,\n",
    "    'x³' : x**3,\n",
    "    'x⁴' : x**4\n",
    "})\n",
    "\n",
    "ax = sdf.plot(x='x', y=['x²','x³','x⁴'], kind='line', style = ['ro', 'bs', 'g', ':'])\n",
    "ax.set_xlim(0,6)\n",
    "ax.set_ylim(0,125)\n",
    "ax.set_xlabel(\"X\")\n",
    "ax.set_ylabel(\"Y\")\n",
    "ax.grid()"
   ]
  },
  {
   "cell_type": "markdown",
   "id": "7341cc8c-e42d-4261-9549-b601564e6820",
   "metadata": {},
   "source": [
    "### 11. Heights and initials of a group of individuals are provided below. Create a bar plot titled “Height Comparison” to compare the heights among this group."
   ]
  },
  {
   "cell_type": "code",
   "execution_count": 94,
   "id": "789ae2da-e922-4522-8881-cf2bc2b510e8",
   "metadata": {},
   "outputs": [
    {
     "data": {
      "text/plain": [
       "<Axes: title={'center': 'Height Comparison'}>"
      ]
     },
     "execution_count": 94,
     "metadata": {},
     "output_type": "execute_result"
    },
    {
     "data": {
      "image/png": "[encoded data removed]",
      "text/plain": [
       "<Figure size 640x480 with 1 Axes>"
      ]
     },
     "metadata": {},
     "output_type": "display_data"
    }
   ],
   "source": [
    "height = [179, 155, 191, 152, 188, 177]\n",
    "names = ['QA', 'WB', 'EC', 'RD', 'TE', 'YF']\n",
    "\n",
    "pd.DataFrame(height, names).plot(kind='bar', title = 'Height Comparison')"
   ]
  },
  {
   "cell_type": "markdown",
   "id": "c6fbb4c6-0d09-4d68-9c44-a68c781f8dea",
   "metadata": {},
   "source": [
    "### 12. Plot a histogram of x, where x consists of 100,000 randomly-selected points with a normal distribution (hint: you can use numpy.random.randn() to generate the random points). The histogram should have 10 bins. Look at how the histogram changes when we try 20 and 50 bins."
   ]
  },
  {
   "cell_type": "code",
   "execution_count": 99,
   "id": "840fd44c-7cfb-409a-8177-27d3f148c8db",
   "metadata": {},
   "outputs": [
    {
     "data": {
      "text/plain": [
       "<Axes: ylabel='Frequency'>"
      ]
     },
     "execution_count": 99,
     "metadata": {},
     "output_type": "execute_result"
    },
    {
     "data": {
      "image/png": "[encoded data removed]",
      "text/plain": [
       "<Figure size 640x480 with 1 Axes>"
      ]
     },
     "metadata": {},
     "output_type": "display_data"
    },
    {
     "data": {
      "image/png": "[encoded data removed]",
      "text/plain": [
       "<Figure size 640x480 with 1 Axes>"
      ]
     },
     "metadata": {},
     "output_type": "display_data"
    },
    {
     "data": {
      "image/png": "[encoded data removed]",
      "text/plain": [
       "<Figure size 640x480 with 1 Axes>"
      ]
     },
     "metadata": {},
     "output_type": "display_data"
    }
   ],
   "source": [
    "xarray = np.random.randn(100000)\n",
    "pd.DataFrame(xarray).plot(kind='hist', bins = 10)\n",
    "pd.DataFrame(xarray).plot(kind='hist', bins = 20)\n",
    "pd.DataFrame(xarray).plot(kind='hist', bins = 50)"
   ]
  },
  {
   "cell_type": "markdown",
   "id": "f57be3c1-8550-486e-8617-0cd00cef11c6",
   "metadata": {},
   "source": [
    "### 13. What are the features of TensorFlow?"
   ]
  },
  {
   "cell_type": "markdown",
   "id": "d4c92477-a6d9-4367-ac4e-9eff5be3f937",
   "metadata": {},
   "source": [
    "* **Flexibility:** Supports various architectures (e.g., CNNs, RNNs) and can be used for a wide range of applications, from image recognition to natural language processing.\n",
    "\n",
    "* **Ecosystem:** Comes with a rich ecosystem of tools, including TensorBoard for visualization, TensorFlow Lite for mobile, TensorFlow Serving for deploying models, and TensorFlow Extended (TFX) for production pipelines.\n",
    "\n",
    "* **Graph-Based Computation:** Uses dataflow graphs, allowing for optimization of the computation process, which can improve performance on large datasets.\n",
    "\n",
    "* **Cross-Platform:** Can run on various platforms, including CPUs, GPUs, and TPUs, and supports distributed computing.\n",
    "\n",
    "* **Automatic Differentiation:** Facilitates easy gradient computation, making it suitable for building and training complex models.\n",
    "\n",
    "* **High-Level APIs:** Offers user-friendly APIs like Keras, which simplify the model-building process.\n",
    "\n",
    "* **Community and Support:** Has a large and active community, providing extensive documentation, tutorials, and forums for troubleshooting.\n",
    "\n",
    "* **Interoperability:** Can be integrated with other languages and frameworks, such as JavaScript (TensorFlow.js) and Swift (Swift for TensorFlow).\n",
    "\n",
    "* **Model Training and Deployment:** Provides tools for easy model training, evaluation, and deployment across different environments.\n",
    "\n",
    "* **Scalability:** Can scale to handle large datasets and complex models through techniques like distributed training and TensorFlow Federated for federated learning."
   ]
  },
  {
   "cell_type": "markdown",
   "id": "694097ed-005c-45ce-9b8e-7b2468c8eb58",
   "metadata": {},
   "source": [
    "### 14. List a few limitations of TensorFlow."
   ]
  },
  {
   "cell_type": "markdown",
   "id": "1e89b304-9627-4a63-a6b4-6a3a06476100",
   "metadata": {},
   "source": [
    "* **Steep Learning Curve:** The API can be complex for beginners, making it challenging for those new to machine learning or deep learning.\n",
    "\n",
    "* **Verbose Syntax:** TensorFlow can require more lines of code and boilerplate compared to some other frameworks, which can slow down development.\n",
    "\n",
    "* **Debugging Complexity:** Debugging can be more challenging due to the graph-based nature of computations, especially when compared to imperative programming styles.\n",
    "\n",
    "* **Performance Overhead:** While TensorFlow is designed for efficiency, certain operations might introduce overhead, particularly in smaller models where the graph execution can be less optimal.\n",
    "\n",
    "* **Compatibility Issues:** Changes between major versions can lead to compatibility issues, requiring significant adjustments to existing codebases.\n",
    "\n",
    "* **Limited Built-In Models:** Compared to some other frameworks, TensorFlow may have fewer pre-trained models available out of the box.\n",
    "\n",
    "* **Resource Intensive:** Training large models can require significant computational resources, which may not be accessible to all users.\n",
    "\n",
    "* **Keras Integration:** While Keras has been integrated into TensorFlow, some users may find it less flexible than standalone Keras for specific use cases."
   ]
  },
  {
   "cell_type": "markdown",
   "id": "abc821c4-7ce7-416f-af96-df462923e418",
   "metadata": {},
   "source": [
    "### 15. What do you know about supervised and unsupervised machine learning?"
   ]
  },
  {
   "cell_type": "markdown",
   "id": "c89912e6-f335-414c-b7db-e9b0003177ad",
   "metadata": {},
   "source": [
    "* **Supervised Learning**: A type of machine learning where a model is trained on a labeled dataset, learning to map inputs to known outputs.\n",
    "\n",
    "* **Unsupervised Learning:** A type of machine learning where a model is trained on an unlabeled dataset, identifying patterns or structures in the data without predefined outputs."
   ]
  }
 ],
 "metadata": {
  "kernelspec": {
   "display_name": "Python 3 (ipykernel)",
   "language": "python",
   "name": "python3"
  },
  "language_info": {
   "codemirror_mode": {
    "name": "ipython",
    "version": 3
   },
   "file_extension": ".py",
   "mimetype": "text/x-python",
   "name": "python",
   "nbconvert_exporter": "python",
   "pygments_lexer": "ipython3",
   "version": "3.12.4"
  }
 },
 "nbformat": 4,
 "nbformat_minor": 5
}
